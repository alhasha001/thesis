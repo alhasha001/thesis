{
  "nbformat": 4,
  "nbformat_minor": 0,
  "metadata": {
    "colab": {
      "name": "PQ metric",
      "provenance": [],
      "collapsed_sections": []
    },
    "kernelspec": {
      "name": "python3",
      "display_name": "Python 3"
    },
    "language_info": {
      "name": "python"
    }
  },
  "cells": [
    {
      "cell_type": "markdown",
      "source": [
        "**IoU weighted block F1**"
      ],
      "metadata": {
        "id": "bCB_BK65nZ_g"
      }
    },
    {
      "cell_type": "code",
      "source": [
        "import json\n",
        "import pandas as pd\n",
        "import numpy as np\n",
        "import seaborn as sns\n",
        "from collections import defaultdict\n",
        "import glob\n",
        "import cv2\n",
        "import os\n",
        "import numpy as np\n",
        "from matplotlib import pyplot as plt\n",
        "%matplotlib inline"
      ],
      "metadata": {
        "id": "32AroKu3nZlJ"
      },
      "execution_count": 10,
      "outputs": []
    },
    {
      "cell_type": "code",
      "source": [
        "#view ground truth\n",
        "test_img = cv2.imread('76.png', cv2.IMREAD_COLOR)       \n",
        "test_img = cv2.resize(test_img, (128, 128))\n",
        "test_img = cv2.cvtColor(test_img, cv2.COLOR_RGB2BGR)\n",
        "plt.imshow(test_img, cmap='gray')\n",
        "#test_img = np.expand_dims(test_img, axis=0)\n",
        "vb_truth = np.array(test_img)\n",
        "truthList = vb_truth.tolist()"
      ],
      "metadata": {
        "colab": {
          "base_uri": "https://localhost:8080/",
          "height": 268
        },
        "id": "VsHbFaJfr0di",
        "outputId": "fe57cd0a-3f63-4892-c421-5cdbdd5c16d6"
      },
      "execution_count": null,
      "outputs": [
        {
          "output_type": "display_data",
          "data": {
            "text/plain": [
              "<Figure size 432x288 with 1 Axes>"
            ],
            "image/png": "[encoded data removed]"
          },
          "metadata": {
            "needs_background": "light"
          }
        }
      ]
    },
    {
      "cell_type": "code",
      "source": [
        "#view prediction\n",
        "pred = cv2.imread('predOf76-unetlt.png', cv2.IMREAD_COLOR)       \n",
        "pred = cv2.resize(pred, (128, 128))\n",
        "pred = cv2.cvtColor(pred, cv2.COLOR_RGB2BGR)\n",
        "plt.imshow(pred, cmap='gray')\n",
        "#pred = np.expand_dims(pred, axis=0)\n",
        "vb_pred = np.array(pred)\n",
        "predList = vb_pred.tolist()"
      ],
      "metadata": {
        "colab": {
          "base_uri": "https://localhost:8080/",
          "height": 268
        },
        "id": "N_1mN768sITm",
        "outputId": "4a381d9d-d706-440b-b151-7aa7a1e704b3"
      },
      "execution_count": null,
      "outputs": [
        {
          "output_type": "display_data",
          "data": {
            "text/plain": [
              "<Figure size 432x288 with 1 Axes>"
            ],
            "image/png": "[encoded data removed]"
          },
          "metadata": {
            "needs_background": "light"
          }
        }
      ]
    },
    {
      "cell_type": "code",
      "source": [
        "# make a 1-dimensional view of arr\n",
        "vb_truth = vb_truth.ravel()\n",
        "vb_pred = vb_pred.ravel()\n",
        "\n",
        "print(vb_truth)\n",
        "print(vb_pred)"
      ],
      "metadata": {
        "colab": {
          "base_uri": "https://localhost:8080/"
        },
        "id": "pH91nrpO3__I",
        "outputId": "398fa030-affc-4d74-aa29-32254b803f4d"
      },
      "execution_count": null,
      "outputs": [
        {
          "output_type": "stream",
          "name": "stdout",
          "text": [
            "[0 0 0 ... 0 0 0]\n",
            "[32 32 32 ... 73 73 73]\n"
          ]
        }
      ]
    },
    {
      "cell_type": "code",
      "source": [
        "#vb_truth = vb_truth[vb_truth != 0]\n",
        "#vb_pred = vb_pred[vb_pred != 0]\n",
        "\n",
        "vb_truth = vb_truth[vb_truth == 255]\n",
        "vb_pred = vb_pred[vb_pred == 255]"
      ],
      "metadata": {
        "id": "7hl_WTDwMtKM"
      },
      "execution_count": null,
      "outputs": []
    },
    {
      "cell_type": "code",
      "source": [
        "#vb_truth, vb_pred = [1,2,1,3,3,5], [1,1,2,3,4,3,1]\n",
        "\n",
        "\n",
        "def make_index(split):\n",
        "    l= sum(split)\n",
        "    pages= list(np.arange(l))\n",
        "    out = defaultdict(set)\n",
        "    for block_length in split:\n",
        "        block= pages[:block_length]\n",
        "        pages= pages[block_length:]\n",
        "        for page in block:\n",
        "            out[page]= set(block)\n",
        "    return out\n",
        "\n",
        "#test\n",
        "make_index(vb_truth)\n",
        "#tests"
      ],
      "metadata": {
        "id": "8WSXecR5VD0A"
      },
      "execution_count": null,
      "outputs": []
    },
    {
      "cell_type": "code",
      "source": [
        "def IoU_TruePositives(t,h):\n",
        "    '''A True Positive is a pair h_block, t_block with an IoU>.5.\n",
        "    This function returns the sum of all IoUs(h_block,t_block) for these bvlocks in t and h,\n",
        "    and the sets of TPs, FPs and FNs.'''\n",
        "    def IoU(S,T):\n",
        "        '''Jaccard similarity between sets S and T'''\n",
        "        return len(S&T)/len(S|T)\n",
        "    def get_docs(t):\n",
        "        '''Get the set of documents (where each document is a set of pagenumbers)'''\n",
        "        return {frozenset(S) for S in make_index(t).values()}\n",
        "    def find_match(S,Candidates):\n",
        "        '''Finds, if it exists,  the unique T in Candidates such that IoU(S,T) >.5'''\n",
        "        return [T for T in Candidates if IoU(S,T) >.5]\n",
        "    t,h= get_docs(t), get_docs(h) # switch to set of docs representation\n",
        "    TP= {(S,find_match(S,t)[0]) for S in h if find_match(S,t)}\n",
        "    FP= h-{S for (S,_) in TP}\n",
        "    FN= t- {T for (_,T) in TP} \n",
        "    return sum(IoU(S,T) for (S,T) in TP  ), TP, FP, FN \n",
        "\n",
        "IoU_TruePositives(vb_truth, vb_pred)"
      ],
      "metadata": {
        "id": "dZ5300ZWVGo-"
      },
      "execution_count": null,
      "outputs": []
    },
    {
      "cell_type": "code",
      "source": [
        "def IoU_P(t,h):\n",
        "    return IoU_TruePositives(t,h)[0]/len(h)\n",
        "def IoU_R(t,h):\n",
        "    return IoU_TruePositives(t,h)[0]/len(t)\n",
        "def IoU_F1(t,h):\n",
        "    P,R= IoU_P(t,h),IoU_R(t,h)\n",
        "    TPS,TP,FP,FN=  IoU_TruePositives(t,h)\n",
        "    return 0 if (P+R)==0 else 2*P*R/(P+R) #  TPS/(len(TP)+ .5*(len(FP)+len(FN))) # gives the same answer\n",
        "     \n",
        "\n",
        "IoU_P(vb_truth,vb_pred),IoU_R(vb_truth,vb_pred),IoU_F1(vb_truth,vb_pred)"
      ],
      "metadata": {
        "id": "t6KMWjfXVJi2"
      },
      "execution_count": null,
      "outputs": []
    },
    {
      "cell_type": "code",
      "source": [
        "\"\"\"\n",
        "#the results of the tests:\n",
        "\n",
        "# first image 76\n",
        "IoU_P 0.5280693747147421\n",
        "IoU_R 1.0\n",
        "IoU_F1 0.6911589008363201\n",
        "\n",
        "# 2nd image 77\n",
        "IoU_P 0.4598997493734336\n",
        "IoU_R 1.0\n",
        "IoU_F1 0.6300429184549357\n",
        "\n",
        "# Third image 10\n",
        "IoU_P 0.3388704318936877\n",
        "IoU_R 1.0\n",
        "IoU_F1 0.5062034739454094\n",
        "\n",
        "#Forth image 52\n",
        "IoU_P 0.2591185410334346\n",
        "IoU_R 1.0\n",
        "IoU_F1 0.41158720579360286\n",
        "\n",
        "# Fifth image 21\n",
        "IoU_P 0.4495359628770302\n",
        "IoU_R 1.0\n",
        "IoU_F1 0.6202480992396959\n",
        "\n",
        "\"\"\""
      ],
      "metadata": {
        "id": "IxjIKsNd5yWB"
      },
      "execution_count": null,
      "outputs": []
    },
    {
      "cell_type": "code",
      "source": [
        "\n",
        "import statistics\n",
        "\n",
        "# array of IoU_F1 scores\n",
        "data = [0.6911589008363201, 0.6300429184549357, 0.5062034739454094, 0.41158720579360286, 0.6202480992396959]\n",
        "\n",
        "numberOfPages = len(data)\n",
        "print('number Of Pages: ' ,numberOfPages)\n",
        "\n",
        "meann = statistics.mean(data)\n",
        "print('Mean' ,meann)\n",
        "\n",
        "std = statistics.stdev(data)\n",
        "print('Stdev', std)\n",
        "\n",
        "\n",
        "mi = np.array(data)\n",
        "print('Min',mi.min())\n",
        "\n",
        "\n",
        "ma = np.array(data)\n",
        "print('Max',ma.max())\n",
        "\n"
      ],
      "metadata": {
        "colab": {
          "base_uri": "https://localhost:8080/"
        },
        "id": "_bngD05TQbmb",
        "outputId": "5b68d164-c8c0-401c-a5e2-c14a3664db32"
      },
      "execution_count": 15,
      "outputs": [
        {
          "output_type": "stream",
          "name": "stdout",
          "text": [
            "number Of Pages:  5\n",
            "Mean 0.5718481196539928\n",
            "Stdev 0.11175535239898876\n",
            "Min 0.41158720579360286\n",
            "Max 0.6911589008363201\n"
          ]
        }
      ]
    },
    {
      "cell_type": "code",
      "source": [
        ""
      ],
      "metadata": {
        "id": "Kvz9Az-eXxcW"
      },
      "execution_count": null,
      "outputs": []
    },
    {
      "cell_type": "code",
      "source": [
        ""
      ],
      "metadata": {
        "id": "OmD3DFCYXxgw"
      },
      "execution_count": null,
      "outputs": []
    },
    {
      "cell_type": "code",
      "source": [
        ""
      ],
      "metadata": {
        "id": "7ZSk8U5HXxr9"
      },
      "execution_count": null,
      "outputs": []
    },
    {
      "cell_type": "code",
      "source": [
        ""
      ],
      "metadata": {
        "id": "--7ujPrHZQhD"
      },
      "execution_count": null,
      "outputs": []
    },
    {
      "cell_type": "code",
      "source": [
        ""
      ],
      "metadata": {
        "id": "rEG6WWs7ZQkE"
      },
      "execution_count": null,
      "outputs": []
    },
    {
      "cell_type": "code",
      "source": [
        "def translate(doclengths):\n",
        "    if not doclengths:\n",
        "        return []\n",
        "    else:\n",
        "        dl1= doclengths[0]\n",
        "        return [1]+[0 for _ in range(dl1-1)]+ translate(doclengths[1:])\n",
        "    \n",
        "def fixedpage(file,docsize=3):\n",
        "    number_of_blocks= len(file)//docsize\n",
        "    rest = len(file) % docsize\n",
        "    first= [docsize for _ in range(number_of_blocks)]\n",
        "    if rest !=0:\n",
        "        return translate(first+[rest])\n",
        "    else:\n",
        "        return translate(first )\n",
        "\n",
        "f= open('Doclengths_of_the_individual_docs.json')\n",
        "truth_corpus=json.load(f)    \n",
        "    \n",
        "D ={pdf: IoU_F1(truth_corpus[pdf], fixedpage(truth_corpus[pdf],2))\n",
        "   for pdf in truth_corpus}\n",
        "results= pd.DataFrame.from_dict(D,orient='index')\n",
        "results.columns=['IoU_F1 for fixed page baseline of size 2']\n",
        "#print(results.shape)\n",
        "#print(results.head())\n",
        "print(results.describe())\n",
        "sns.boxplot(data=results);"
      ],
      "metadata": {
        "id": "a_9OvBL4nuR7"
      },
      "execution_count": null,
      "outputs": []
    },
    {
      "cell_type": "code",
      "source": [
        ""
      ],
      "metadata": {
        "id": "15kf7NnxnuU1"
      },
      "execution_count": null,
      "outputs": []
    }
  ]
}