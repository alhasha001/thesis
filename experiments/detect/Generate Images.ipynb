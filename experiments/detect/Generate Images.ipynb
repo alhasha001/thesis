{
 "cells": [
  {
   "cell_type": "markdown",
   "id": "93bfd140",
   "metadata": {},
   "source": [
    "# Using Python to enrich the datasets (Image augmentation)."
   ]
  },
  {
   "cell_type": "markdown",
   "id": "d80780ac",
   "metadata": {},
   "source": [
    "### After analysing a lot of the WOB documents. It turned out there are not a lot of redactions (relatively speaking) in the document to train DL / ML model(s). The idea of this approach to generate more images based on the labeled images (by openCV). By doing that, we can have enough data to train our models."
   ]
  },
  {
   "cell_type": "markdown",
   "id": "7bf9090b",
   "metadata": {},
   "source": [
    "#### Import the packages\n"
   ]
  },
  {
   "cell_type": "code",
   "execution_count": 23,
   "id": "6ec42099",
   "metadata": {},
   "outputs": [],
   "source": [
    "import numpy as np\n",
    "from matplotlib import pyplot as plt\n",
    "from skimage.transform import AffineTransform, warp\n",
    "from skimage import io, img_as_ubyte\n",
    "import random\n",
    "import os\n",
    "from scipy.ndimage import rotate\n",
    "import albumentations as A\n",
    "images_to_generate= number_of_images_to_be_generated"
   ]
  },
  {
   "cell_type": "markdown",
   "id": "2341fe5c",
   "metadata": {},
   "source": [
    "### Define paths and arrays"
   ]
  },
  {
   "cell_type": "code",
   "execution_count": 14,
   "id": "b13f4f46",
   "metadata": {},
   "outputs": [],
   "source": [
    "#path to original images\n",
    "images_path=\"\" \n",
    "#path to labeled images\n",
    "masks_path = \"\"\n",
    "# path to store generated images\n",
    "img_augmented_path=\"\" \n",
    "# path to store generated labeled images\n",
    "msk_augmented_path=\"\" \n",
    "\n",
    "images=[] \n",
    "masks=[]"
   ]
  },
  {
   "cell_type": "markdown",
   "id": "f24898a6",
   "metadata": {},
   "source": [
    "### Generate the images"
   ]
  },
  {
   "cell_type": "code",
   "execution_count": 16,
   "id": "a73c8f61",
   "metadata": {},
   "outputs": [],
   "source": [
    "for im in os.listdir(images_path):     \n",
    "    images.append(os.path.join(images_path,im))\n",
    "\n",
    "for msk in os.listdir(masks_path):    \n",
    "    masks.append(os.path.join(masks_path,msk))\n",
    "\n",
    "aug = A.Compose([\n",
    "    A.VerticalFlip(p=0.5),              \n",
    "    A.RandomRotate90(p=0.5),\n",
    "    A.HorizontalFlip(p=1),\n",
    "    A.Transpose(p=1),\n",
    "    A.GridDistortion(p=1)\n",
    "    ]\n",
    ")\n",
    "\n",
    "i=1   \n",
    "\n",
    "while i<=images_to_generate: \n",
    "    number = random.randint(0, len(images)-1)  \n",
    "    image = images[number]\n",
    "    mask = masks[number]\n",
    "    print(image, mask)\n",
    "    original_image = io.imread(image)\n",
    "    original_mask = io.imread(mask)\n",
    "    \n",
    "    augmented = aug(image=original_image, mask=original_mask)\n",
    "    transformed_image = augmented['image']\n",
    "    transformed_mask = augmented['mask']\n",
    "        \n",
    "    new_image_path= \"%s/generated_image_%s.png\" %(img_augmented_path, i)\n",
    "    new_mask_path = \"%s/generated_label_%s.png\" %(msk_augmented_path, i)\n",
    "    io.imsave(new_image_path, transformed_image)\n",
    "    io.imsave(new_mask_path, transformed_mask)\n",
    "    i =i+1"
   ]
  }
 ],
 "metadata": {
  "kernelspec": {
   "display_name": "Python 3 (ipykernel)",
   "language": "python",
   "name": "python3"
  },
  "language_info": {
   "codemirror_mode": {
    "name": "ipython",
    "version": 3
   },
   "file_extension": ".py",
   "mimetype": "text/x-python",
   "name": "python",
   "nbconvert_exporter": "python",
   "pygments_lexer": "ipython3",
   "version": "3.9.7"
  }
 },
 "nbformat": 4,
 "nbformat_minor": 5
}
