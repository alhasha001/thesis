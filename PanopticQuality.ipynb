{
 "cells": [
  {
   "cell_type": "markdown",
   "id": "1424b120",
   "metadata": {},
   "source": [
    "# IoU weighted block F1\n",
    "\n",
    "* In fact this is exactly [Panoptic Quality](https://medium.com/@danielmechea/panoptic-segmentation-the-panoptic-quality-metric-d69a6c3ace30)\n",
    "\n",
    "This is a less strict version of block F1. Where in block F1 you only count the exact hits as True Positives, here you connect each predicted block to a unique true block if their IoU is larger than a half.\n",
    "\n",
    "Now you simply take the sum of all IoU values of those pairs as the numerator in the calculation of Precision and Recall. \n",
    "\n",
    "So here you also get \"points\", namely the IoU for matches which are slightly off.\n",
    "\n",
    "Note that each predicted block can only be matched to at most one true block.\n",
    "\n",
    "In the case that all matches are exact, all these IoU's are 1, and we simply have the block measures.\n"
   ]
  },
  {
   "cell_type": "code",
   "execution_count": 1,
   "id": "f1fd9db9",
   "metadata": {},
   "outputs": [],
   "source": [
    "import json\n",
    "import pandas as pd\n",
    "import numpy as np\n",
    "import seaborn as sns\n",
    "from collections import defaultdict\n",
    "%matplotlib inline"
   ]
  },
  {
   "cell_type": "code",
   "execution_count": 2,
   "id": "7f3f1b92",
   "metadata": {},
   "outputs": [
    {
     "data": {
      "text/plain": [
       "defaultdict(set,\n",
       "            {0: {0},\n",
       "             1: {1, 2},\n",
       "             2: {1, 2},\n",
       "             3: {3},\n",
       "             4: {4, 5, 6},\n",
       "             5: {4, 5, 6},\n",
       "             6: {4, 5, 6},\n",
       "             7: {7, 8, 9},\n",
       "             8: {7, 8, 9},\n",
       "             9: {7, 8, 9},\n",
       "             10: {10, 11, 12, 13, 14},\n",
       "             11: {10, 11, 12, 13, 14},\n",
       "             12: {10, 11, 12, 13, 14},\n",
       "             13: {10, 11, 12, 13, 14},\n",
       "             14: {10, 11, 12, 13, 14}})"
      ]
     },
     "execution_count": 2,
     "metadata": {},
     "output_type": "execute_result"
    }
   ],
   "source": [
    "vb_truth, vb_pred = [1,2,1,3,3,5], [1,1,2,3,4,3,1]\n",
    "\n",
    "def make_index(split):\n",
    "    l= sum(split)\n",
    "    pages= list(np.arange(l))\n",
    "    out = defaultdict(set)\n",
    "    for block_length in split:\n",
    "        block= pages[:block_length]\n",
    "        pages= pages[block_length:]\n",
    "        for page in block:\n",
    "            out[page]= set(block)\n",
    "    return out\n",
    "\n",
    "#test\n",
    "make_index(vb_truth)\n",
    "#tests\n"
   ]
  },
  {
   "cell_type": "code",
   "execution_count": 3,
   "id": "dbf046b3",
   "metadata": {},
   "outputs": [
    {
     "data": {
      "text/plain": [
       "(3.35,\n",
       " {(frozenset({4, 5, 6}), frozenset({4, 5, 6})),\n",
       "  (frozenset({7, 8, 9, 10}), frozenset({7, 8, 9})),\n",
       "  (frozenset({11, 12, 13}), frozenset({10, 11, 12, 13, 14})),\n",
       "  (frozenset({0}), frozenset({0}))},\n",
       " {frozenset({1}), frozenset({2, 3}), frozenset({14})},\n",
       " {frozenset({3}), frozenset({1, 2})})"
      ]
     },
     "execution_count": 3,
     "metadata": {},
     "output_type": "execute_result"
    }
   ],
   "source": [
    "def IoU_TruePositives(t,h):\n",
    "    '''A True Positive is a pair h_block, t_block with an IoU>.5.\n",
    "    This function returns the sum of all IoUs(h_block,t_block) for these bvlocks in t and h,\n",
    "    and the sets of TPs, FPs and FNs.'''\n",
    "    def IoU(S,T):\n",
    "        '''Jaccard similarity between sets S and T'''\n",
    "        return len(S&T)/len(S|T)\n",
    "    def get_docs(t):\n",
    "        '''Get the set of documents (where each document is a set of pagenumbers)'''\n",
    "        return {frozenset(S) for S in make_index(t).values()}\n",
    "    def find_match(S,Candidates):\n",
    "        '''Finds, if it exists,  the unique T in Candidates such that IoU(S,T) >.5'''\n",
    "        return [T for T in Candidates if IoU(S,T) >.5]\n",
    "    t,h= get_docs(t), get_docs(h) # switch to set of docs representation\n",
    "    TP= {(S,find_match(S,t)[0]) for S in h if find_match(S,t)}\n",
    "    FP= h-{S for (S,_) in TP}\n",
    "    FN= t- {T for (_,T) in TP} \n",
    "    return sum(IoU(S,T) for (S,T) in TP  ), TP, FP, FN \n",
    "\n",
    "IoU_TruePositives(vb_truth, vb_pred)"
   ]
  },
  {
   "cell_type": "code",
   "execution_count": 4,
   "id": "ec3d0884",
   "metadata": {},
   "outputs": [
    {
     "data": {
      "text/plain": [
       "(0.4785714285714286, 0.5583333333333333, 0.5153846153846153)"
      ]
     },
     "execution_count": 4,
     "metadata": {},
     "output_type": "execute_result"
    }
   ],
   "source": [
    "def IoU_P(t,h):\n",
    "    return IoU_TruePositives(t,h)[0]/len(h)\n",
    "def IoU_R(t,h):\n",
    "    return IoU_TruePositives(t,h)[0]/len(t)\n",
    "def IoU_F1(t,h):\n",
    "    P,R= IoU_P(t,h),IoU_R(t,h)\n",
    "    TPS,TP,FP,FN=  IoU_TruePositives(t,h)\n",
    "    return 0 if (P+R)==0 else 2*P*R/(P+R) #  TPS/(len(TP)+ .5*(len(FP)+len(FN))) # gives the same answer\n",
    "     \n",
    "\n",
    "IoU_P(vb_truth,vb_pred),IoU_R(vb_truth,vb_pred),IoU_F1(vb_truth,vb_pred)"
   ]
  },
  {
   "cell_type": "code",
   "execution_count": 5,
   "id": "d01f31fe",
   "metadata": {},
   "outputs": [
    {
     "name": "stdout",
     "output_type": "stream",
     "text": [
      "       IoU_F1 for fixed page baseline of size 2\n",
      "count                                 75.000000\n",
      "mean                                   0.074179\n",
      "std                                    0.105324\n",
      "min                                    0.000000\n",
      "25%                                    0.000000\n",
      "50%                                    0.039474\n",
      "75%                                    0.098780\n",
      "max                                    0.500000\n"
     ]
    },
    {
     "data": {
      "image/png": "[encoded data removed]",
      "text/plain": [
       "<Figure size 432x288 with 1 Axes>"
      ]
     },
     "metadata": {
      "needs_background": "light"
     },
     "output_type": "display_data"
    }
   ],
   "source": [
    "def translate(doclengths):\n",
    "    if not doclengths:\n",
    "        return []\n",
    "    else:\n",
    "        dl1= doclengths[0]\n",
    "        return [1]+[0 for _ in range(dl1-1)]+ translate(doclengths[1:])\n",
    "    \n",
    "def fixedpage(file,docsize=3):\n",
    "    number_of_blocks= len(file)//docsize\n",
    "    rest = len(file) % docsize\n",
    "    first= [docsize for _ in range(number_of_blocks)]\n",
    "    if rest !=0:\n",
    "        return translate(first+[rest])\n",
    "    else:\n",
    "        return translate(first )\n",
    "\n",
    "f= open('Doclengths_of_the_individual_docs.json')\n",
    "truth_corpus=json.load(f)    \n",
    "    \n",
    "D ={pdf: IoU_F1(truth_corpus[pdf], fixedpage(truth_corpus[pdf],2))\n",
    "   for pdf in truth_corpus}\n",
    "results= pd.DataFrame.from_dict(D,orient='index')\n",
    "results.columns=['IoU_F1 for fixed page baseline of size 2']\n",
    "#print(results.shape)\n",
    "#print(results.head())\n",
    "print(results.describe())\n",
    "sns.boxplot(data=results);"
   ]
  },
  {
   "cell_type": "code",
   "execution_count": null,
   "id": "66bf3936",
   "metadata": {},
   "outputs": [],
   "source": []
  }
 ],
 "metadata": {
  "kernelspec": {
   "display_name": "Python 3 (ipykernel)",
   "language": "python",
   "name": "python3"
  },
  "language_info": {
   "codemirror_mode": {
    "name": "ipython",
    "version": 3
   },
   "file_extension": ".py",
   "mimetype": "text/x-python",
   "name": "python",
   "nbconvert_exporter": "python",
   "pygments_lexer": "ipython3",
   "version": "3.9.7"
  },
  "toc": {
   "nav_menu": {},
   "number_sections": false,
   "sideBar": true,
   "skip_h1_title": false,
   "title_cell": "Table of Contents",
   "title_sidebar": "Contents",
   "toc_cell": false,
   "toc_position": {},
   "toc_section_display": true,
   "toc_window_display": false
  }
 },
 "nbformat": 4,
 "nbformat_minor": 5
}
