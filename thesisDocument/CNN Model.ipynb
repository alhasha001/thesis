{
 "cells": [
  {
   "cell_type": "markdown",
   "id": "6fe02cd3",
   "metadata": {},
   "source": [
    "# Building a CNN model to detect redaction\n"
   ]
  },
  {
   "cell_type": "markdown",
   "id": "50e6604f",
   "metadata": {},
   "source": [
    "## Implementations\n"
   ]
  },
  {
   "cell_type": "code",
   "execution_count": null,
   "id": "a1cdda3d",
   "metadata": {},
   "outputs": [],
   "source": [
    "#Implement the needed packages\n",
    "from keras.utils import to_categorical\n",
    "from keras import layers\n",
    "from keras import models\n",
    "from keras.regularizers import l2\n",
    "from keras.optimizers import Adam\n"
   ]
  },
  {
   "cell_type": "markdown",
   "id": "c9cfea8f",
   "metadata": {},
   "source": [
    "## Get the datasets\n"
   ]
  },
  {
   "cell_type": "code",
   "execution_count": null,
   "id": "0f32f1a8",
   "metadata": {},
   "outputs": [],
   "source": [
    "Y_test = to_categorical(Y_test, num_classes=2) \n",
    "Y_train = to_categorical(Y_train, num_classes=2)"
   ]
  },
  {
   "cell_type": "markdown",
   "id": "90d9d108",
   "metadata": {},
   "source": [
    "### Add the layers of the model\n",
    "\n",
    "\n"
   ]
  },
  {
   "cell_type": "code",
   "execution_count": null,
   "id": "4ad4e9f5",
   "metadata": {},
   "outputs": [],
   "source": [
    "# 3 layer ConvNet\n",
    "model = models.Sequential()\n",
    "model.add(layers.Conv2D(32, (3, 3), activation='relu',input_shape=(32,32,1)))\n",
    "model.add(layers.MaxPooling2D((2, 2)))\n",
    "\n",
    "model.add(layers.Conv2D(64, (3, 3), activation='relu'))\n",
    "model.add(layers.MaxPooling2D((2, 2)))\n",
    "\n",
    "model.add(layers.Conv2D(128, (3, 3), activation='relu'))\n",
    "model.add(layers.MaxPooling2D((2, 2)))\n",
    "\n",
    "#dense layer\n",
    "model.add(layers.Flatten())"
   ]
  },
  {
   "cell_type": "markdown",
   "id": "c3d19528",
   "metadata": {},
   "source": [
    "### Add Regulizers for optimization\n",
    "\n",
    "\n"
   ]
  },
  {
   "cell_type": "code",
   "execution_count": null,
   "id": "24c50341",
   "metadata": {},
   "outputs": [],
   "source": [
    "model.add(layers.Dense(128, activation='linear', activity_regularizer=l2(0.0003)))\n",
    "model.add(layers.Dense(128, activation='relu'))\n",
    "model.add(layers.Dense(2, activation='sigmoid'))  \n",
    "model.summary()"
   ]
  },
  {
   "cell_type": "markdown",
   "id": "0bd80f81",
   "metadata": {},
   "source": [
    "### Adding Adam.\n"
   ]
  },
  {
   "cell_type": "markdown",
   "id": "ffeefb67",
   "metadata": {},
   "source": [
    "Use an Adam optimizer to optimize the model and a loss function to calculate the loss. The metrics define which metric you to calculate. In this case, it is accuracy."
   ]
  },
  {
   "cell_type": "code",
   "execution_count": null,
   "id": "928aee7d",
   "metadata": {},
   "outputs": [],
   "source": [
    "opt = Adam(lr=0.001)\n",
    "model.compile(optimizer=opt, loss=keras.losses.categorical_crossentropy, metrics=['accuracy'])"
   ]
  },
  {
   "cell_type": "markdown",
   "id": "860f4a5f",
   "metadata": {},
   "source": [
    "### Training the model.\n"
   ]
  },
  {
   "cell_type": "code",
   "execution_count": null,
   "id": "ade5d00a",
   "metadata": {},
   "outputs": [],
   "source": [
    "ntrain = len(X_train)\n",
    "nval = len(X_test)\n",
    "X_train = X_train_orig.reshape((len(X_train),32,32,1)) \n",
    "X_test = X_test_orig.reshape((len(X_test),32,32,1))\n",
    "\n",
    "train_datagen = ImageDataGenerator(rescale = 1./255,rotation_range = 40, width_shift_range = .2,\n",
    "                                  height_shift_range = .2, shear_range = .2, zoom_range =  .2, horizontal_flip = True)\n",
    "\n",
    "val_datagen = ImageDataGenerator(rescale = 1./255)\n",
    "\n",
    "train_generator = train_datagen.flow(X_train,Y_train,batch_size=32)\n",
    "val_generator = val_datagen.flow(X_test,Y_test,batch_size = 32)\n",
    "\n",
    "\n",
    "#Use Generator\n",
    "history = model.fit_generator(train_generator,steps_per_epoch = ntrain/32, epochs = 64, validation_data = val_generator, validation_steps = nval/32  )\n"
   ]
  }
 ],
 "metadata": {
  "kernelspec": {
   "display_name": "Python 3 (ipykernel)",
   "language": "python",
   "name": "python3"
  },
  "language_info": {
   "codemirror_mode": {
    "name": "ipython",
    "version": 3
   },
   "file_extension": ".py",
   "mimetype": "text/x-python",
   "name": "python",
   "nbconvert_exporter": "python",
   "pygments_lexer": "ipython3",
   "version": "3.10.3"
  }
 },
 "nbformat": 4,
 "nbformat_minor": 5
}
